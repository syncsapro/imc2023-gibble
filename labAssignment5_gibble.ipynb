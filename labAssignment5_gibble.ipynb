{
  "nbformat": 4,
  "nbformat_minor": 0,
  "metadata": {
    "colab": {
      "provenance": [],
      "authorship_tag": "ABX9TyOF2vB2Kk/JlvyHpbU36Oke",
      "include_colab_link": true
    },
    "kernelspec": {
      "name": "python3",
      "display_name": "Python 3"
    },
    "language_info": {
      "name": "python"
    }
  },
  "cells": [
    {
      "cell_type": "markdown",
      "metadata": {
        "id": "view-in-github",
        "colab_type": "text"
      },
      "source": [
        "<a href=\"https://colab.research.google.com/github/syncsapro/imc2023-gibble/blob/main/labAssignment5_gibble.ipynb\" target=\"_parent\"><img src=\"https://colab.research.google.com/assets/colab-badge.svg\" alt=\"Open In Colab\"/></a>"
      ]
    },
    {
      "cell_type": "code",
      "execution_count": 4,
      "metadata": {
        "colab": {
          "base_uri": "https://localhost:8080/"
        },
        "id": "pnpfmPBsVNnZ",
        "outputId": "a1fc6940-962f-4a33-a2fc-944faeadbe4b"
      },
      "outputs": [
        {
          "output_type": "stream",
          "name": "stdout",
          "text": [
            "Cloning into 'imc2023'...\n",
            "remote: Enumerating objects: 122, done.\u001b[K\n",
            "remote: Counting objects: 100% (122/122), done.\u001b[K\n",
            "remote: Compressing objects: 100% (115/115), done.\u001b[K\n",
            "remote: Total 122 (delta 47), reused 14 (delta 1), pack-reused 0\u001b[K\n",
            "Receiving objects: 100% (122/122), 13.19 MiB | 12.20 MiB/s, done.\n",
            "Resolving deltas: 100% (47/47), done.\n"
          ]
        }
      ],
      "source": [
        "import numpy as np\n",
        "import matplotlib.pyplot as plt\n",
        "import librosa\n",
        "import librosa.display\n",
        "import IPython.display\n",
        "import scipy.signal as sg\n",
        "\n",
        "#import audio files\n",
        "!git clone https://github.com/jcdevaney/imc2023.git"
      ]
    },
    {
      "cell_type": "code",
      "source": [
        "def plotTimeFreq(sig,sr,title,winSize,specType,fig):\n",
        "\n",
        "    # Adjust the x-axis to represent time\n",
        "    time=np.arange(0,sig.shape[0])/sr\n",
        "    \n",
        "    # Scale the y-axis to represent amplitude from -1 to 1\n",
        "    excursion=max(abs(sig))\n",
        "    sigNew = sig / excursion\n",
        "    \n",
        "    # Label the x and y axes with variables\n",
        "    xlabel = 'Time (seconds)'\n",
        "    ylabel = 'Amplitude'\n",
        "\n",
        "    # Create a new figure (using the figure number passed in as an argument)\n",
        "    plt.figure(fig)\n",
        "    \n",
        "    # Create the first subplot\n",
        "    plt.subplot(2,1,1)\n",
        "    \n",
        "    # Plot the time-domain representation of the inputted audio signal  \n",
        "    plt.plot(time,sigNew)\n",
        "    plt.xlabel(xlabel)\n",
        "    plt.ylabel(ylabel)\n",
        "    plt.title(title)\n",
        "    \n",
        "    # Create the second subplot\n",
        "    plt.subplot(2,1,2)\n",
        "    \n",
        "    # Plot the frequency-domain representatio of the inputted audio signal\n",
        "    spec = librosa.amplitude_to_db(np.abs(librosa.stft(sig,n_fft=winSize)), ref=np.max)\n",
        "    librosa.display.specshow(spec, y_axis=specType)\n",
        "    plt.colorbar(format='%+2.0f dB')\n",
        "    plt.title(title)\n",
        "    plt.show"
      ],
      "metadata": {
        "id": "vxYE5eJuVpqm"
      },
      "execution_count": 2,
      "outputs": []
    },
    {
      "cell_type": "code",
      "source": [
        "def filterSignal(sig,sr,freq,filtType,order,winSize,specType,fig):\n",
        "\n",
        "    if text == \"low\" or text == \"high\":\n",
        "        print(filterFreq = freq / (sr / 2))\n",
        "    elif text == \"bandpass\" or text == \"bandstop\":\n",
        "        print(filterFreq = [freq[0] / (sr / 2), freq[1] / (sr / 2)])\n",
        "    else:\n",
        "        print(text)\n",
        "\n",
        "    sg.butter()\n",
        "\n",
        "    sg.filtfilt()\n",
        "\n",
        "    plotTimeFreq(sig,sr,title,winSize,specType,fig)\n",
        "\n",
        "    return filterSignal        \n",
        "\n"
      ],
      "metadata": {
        "id": "wndXQwo_V-dW"
      },
      "execution_count": 8,
      "outputs": []
    },
    {
      "cell_type": "code",
      "source": [
        "def allFilters(sig,sr,freq,width,order,winSize,specType):"
      ],
      "metadata": {
        "id": "lFMtchtJfjfs"
      },
      "execution_count": null,
      "outputs": []
    }
  ]
}